{
 "cells": [
  {
   "cell_type": "code",
   "execution_count": 2,
   "id": "d6518420-68a8-4b8f-a1c2-43959a16a6c5",
   "metadata": {},
   "outputs": [],
   "source": [
    "import fitbit\n",
    "#import gather_keys_oauth2 as Oauth2\n",
    "from fitbit import gather_keys_oauth2 as Oauth2\n",
    "import pandas as pd \n",
    "import datetime\n",
    "import matplotlib.pyplot as plt\n",
    "import hashlib\n",
    "import random\n",
    "from pymongo import MongoClient\n",
    "import requests\n",
    "from datetime import timedelta"
   ]
  },
  {
   "cell_type": "code",
   "execution_count": null,
   "id": "b78b8d4a-b67b-4ea9-bce9-2a1d06e18566",
   "metadata": {},
   "outputs": [
    {
     "name": "stderr",
     "output_type": "stream",
     "text": [
      "[14/Sep/2024:12:48:09] ENGINE Listening for SIGTERM.\n",
      "[14/Sep/2024:12:48:09] ENGINE Bus STARTING\n",
      "CherryPy Checker:\n",
      "The Application mounted at '' has an empty config.\n",
      "\n",
      "[14/Sep/2024:12:48:09] ENGINE Set handler for console events.\n",
      "[14/Sep/2024:12:48:09] ENGINE Started monitor thread 'Autoreloader'.\n",
      "[14/Sep/2024:12:48:09] ENGINE Serving on http://127.0.0.1:8080\n",
      "[14/Sep/2024:12:48:09] ENGINE Bus STARTED\n"
     ]
    }
   ],
   "source": [
    "# YOU NEED TO PUT IN YOUR OWN CLIENT_ID AND CLIENT_SECRET\n",
    "CLIENT_ID='23PM8R'\n",
    "CLIENT_SECRET='f31db9417ec704a1d9d412296c40801e'\n",
    "\n",
    "server=Oauth2.OAuth2Server(CLIENT_ID, CLIENT_SECRET)\n",
    "server.browser_authorize()\n",
    "ACCESS_TOKEN=str(server.fitbit.client.session.token['access_token'])\n",
    "REFRESH_TOKEN=str(server.fitbit.client.session.token['refresh_token'])\n",
    "auth2_client=fitbit.Fitbit(CLIENT_ID,CLIENT_SECRET,oauth2=True,access_token=ACCESS_TOKEN,refresh_token=REFRESH_TOKEN)"
   ]
  },
  {
   "cell_type": "code",
   "execution_count": null,
   "id": "2b38b2d5-146e-42f9-86f8-5d4d233c07b7",
   "metadata": {},
   "outputs": [],
   "source": []
  }
 ],
 "metadata": {
  "kernelspec": {
   "display_name": "Python 3 (ipykernel)",
   "language": "python",
   "name": "python3"
  },
  "language_info": {
   "codemirror_mode": {
    "name": "ipython",
    "version": 3
   },
   "file_extension": ".py",
   "mimetype": "text/x-python",
   "name": "python",
   "nbconvert_exporter": "python",
   "pygments_lexer": "ipython3",
   "version": "3.12.3"
  }
 },
 "nbformat": 4,
 "nbformat_minor": 5
}
